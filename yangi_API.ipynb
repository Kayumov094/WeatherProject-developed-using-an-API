{
 "cells": [
  {
   "cell_type": "code",
   "execution_count": null,
   "id": "ff7e8f9c",
   "metadata": {},
   "outputs": [],
   "source": [
    "import pandas as pd \n",
    "import requests # requests modulini ornaatdim \n",
    "import json  #chiroyli print qilish uchun json modulini ornatdim "
   ]
  },
  {
   "cell_type": "code",
   "execution_count": null,
   "id": "35438dd6",
   "metadata": {},
   "outputs": [],
   "source": [
    "city  = \"Fergana\" # kerakli hududni tanladim \n",
    "my_api_url = f\"http://api.weatherapi.com/v1/current.json?key={api_key}&q={city}\" # API manzilimi berdim \n",
    "api_key = \"7173f11f714348a7b01232551251008\" # API kalitini generatsiya qildim "
   ]
  },
  {
   "cell_type": "code",
   "execution_count": null,
   "id": "0757c40c",
   "metadata": {},
   "outputs": [
    {
     "name": "stdout",
     "output_type": "stream",
     "text": [
      "{\n",
      "    \"location\": {\n",
      "        \"name\": \"Fergana\",\n",
      "        \"region\": \"Farghona\",\n",
      "        \"country\": \"Uzbekistan\",\n",
      "        \"lat\": 40.3933,\n",
      "        \"lon\": 71.7794,\n",
      "        \"tz_id\": \"Asia/Tashkent\",\n",
      "        \"localtime_epoch\": 1754869487,\n",
      "        \"localtime\": \"2025-08-11 04:44\"\n",
      "    },\n",
      "    \"current\": {\n",
      "        \"last_updated_epoch\": 1754868600,\n",
      "        \"last_updated\": \"2025-08-11 04:30\",\n",
      "        \"temp_c\": 26.3,\n",
      "        \"temp_f\": 79.3,\n",
      "        \"is_day\": 0,\n",
      "        \"condition\": {\n",
      "            \"text\": \"Clear\",\n",
      "            \"icon\": \"//cdn.weatherapi.com/weather/64x64/night/113.png\",\n",
      "            \"code\": 1000\n",
      "        },\n",
      "        \"wind_mph\": 2.2,\n",
      "        \"wind_kph\": 3.6,\n",
      "        \"wind_degree\": 186,\n",
      "        \"wind_dir\": \"S\",\n",
      "        \"pressure_mb\": 1008.0,\n",
      "        \"pressure_in\": 29.77,\n",
      "        \"precip_mm\": 0.0,\n",
      "        \"precip_in\": 0.0,\n",
      "        \"humidity\": 42,\n",
      "        \"cloud\": 0,\n",
      "        \"feelslike_c\": 24.9,\n",
      "        \"feelslike_f\": 76.9,\n",
      "        \"windchill_c\": 25.9,\n",
      "        \"windchill_f\": 78.6,\n",
      "        \"heatindex_c\": 24.6,\n",
      "        \"heatindex_f\": 76.3,\n",
      "        \"dewpoint_c\": 2.8,\n",
      "        \"dewpoint_f\": 37.0,\n",
      "        \"vis_km\": 10.0,\n",
      "        \"vis_miles\": 6.0,\n",
      "        \"uv\": 0.0,\n",
      "        \"gust_mph\": 4.7,\n",
      "        \"gust_kph\": 7.6,\n",
      "        \"short_rad\": 0,\n",
      "        \"diff_rad\": 0,\n",
      "        \"dni\": 0,\n",
      "        \"gti\": 0\n",
      "    }\n",
      "}\n"
     ]
    }
   ],
   "source": [
    "response  = requests.get(my_api_url) # requests modulilning get() feunction orqali API data oldim va uni respone o'zgaruvchiga yukladim \n",
    "response.status_code # response ozgaruvchining holatini bildim \n",
    "data = response.json() # response ni json ga aylantirib data degan o'zagruvchiga yukladim \n",
    "print(json.dumps(data, indent = 4)) # Python obyektini json formatiga aylantirib oldim indent hosil qildim "
   ]
  },
  {
   "cell_type": "code",
   "execution_count": null,
   "id": "f54cd1f7",
   "metadata": {},
   "outputs": [
    {
     "name": "stdout",
     "output_type": "stream",
     "text": [
      "Shahar nomi: Fergana\n",
      " Mamlakat nomi: Uzbekistan\n",
      " Mahalliy vaqti: 2025-08-11 04:44\n",
      " Harorrat: 26.3 C\n",
      " Osmon holati: Clear\n"
     ]
    }
   ],
   "source": [
    "print(f\"Shahar nomi: {data['location']['name']}\\n\", \n",
    "      f\"Mamlakat nomi: {data['location']['country']}\\n\",\n",
    "      f\"Mahalliy vaqti: {data['location']['localtime']}\\n\",\n",
    "      f\"Harorrat: {data['current']['temp_c']} C\\n\",\n",
    "      f\"Osmon holati: {data['current']['condition']['text']}\")"
   ]
  },
  {
   "cell_type": "code",
   "execution_count": null,
   "id": "678cbef5",
   "metadata": {},
   "outputs": [],
   "source": [
    "import pandas as pd # pandas kutubxonasini import qilib oldim \n",
    "import requests  # requests modulini install qildim \n",
    "import json  # json modulini import qilib oldim "
   ]
  },
  {
   "cell_type": "code",
   "execution_count": null,
   "id": "95bbcd49",
   "metadata": {},
   "outputs": [],
   "source": [
    "city = 'London' # kerakli shaharni city degan o'zgaruvchiga yuklab oldim \n",
    "api_key = \"ba49aec59d674964a4f00859251108\" # saytdan api key generatsiya qilib olib api_key degan o'zgarucvchiga yuklab oldim \n",
    "my_url = f\" http://api.weatherapi.com/v1/current.json?key={api_key}&q={city}\" # saytdan kalit orqali kerakli  ma'lumotni olihs uchun hamsini my_url o'zgaruvchisaga yuklab oldim "
   ]
  },
  {
   "cell_type": "code",
   "execution_count": null,
   "id": "a529c0da",
   "metadata": {},
   "outputs": [
    {
     "data": {
      "text/plain": [
       "200"
      ]
     },
     "execution_count": 25,
     "metadata": {},
     "output_type": "execute_result"
    }
   ],
   "source": [
    "response = requests.get(my_url) #kerakli malumotlarni olib responsega yuklab oldim \n",
    "response.status_code # response ni holatini kordim natija 200 bu daxshat  "
   ]
  },
  {
   "cell_type": "code",
   "execution_count": null,
   "id": "a4e63b54",
   "metadata": {},
   "outputs": [],
   "source": [
    "data = response.json() # kelgan javobni data degan o'zgaruvchiga yuklab oldim \n",
    "print(json.dumps(data, indent = 4)) # endi python obektini json ga aylantirib print qilib oldim "
   ]
  },
  {
   "cell_type": "code",
   "execution_count": null,
   "id": "f91f6fa3",
   "metadata": {},
   "outputs": [
    {
     "name": "stdout",
     "output_type": "stream",
     "text": [
      "********************\n",
      "      Hudud nomi: London\"\n",
      "      Tegishli mamlakat: United Kingdom\"\n",
      "      Oxirgi yangilanish: 2025-08-11 01:00\"\n",
      "      Harorat: 17.4\"\n",
      "      ********************\n"
     ]
    }
   ],
   "source": [
    "print(\n",
    "    f\"\"\"{'*' * 20}\n",
    "      Hudud nomi: {data['location']['name']}\"\n",
    "      Tegishli mamlakat: {data['location']['country']}\"\n",
    "      Oxirgi yangilanish: {data['current']['last_updated']}\"\n",
    "      Harorat: {data['current']['temp_c']}\"\n",
    "      {'*' *20}\"\"\")"
   ]
  },
  {
   "cell_type": "code",
   "execution_count": null,
   "id": "13dc0c93",
   "metadata": {},
   "outputs": [],
   "source": [
    "import pandas as pd      # pandas kutubxonasi import qilib oldim \n",
    "import requests          # requests modulini import qilib oldim \n",
    "import json              # json modulini import qildim "
   ]
  },
  {
   "cell_type": "code",
   "execution_count": null,
   "id": "d74c4a54",
   "metadata": {},
   "outputs": [
    {
     "name": "stdout",
     "output_type": "stream",
     "text": [
      "******************************\n",
      "\n",
      "New Yorkda harorat: 29.4 *C\n",
      "New Yorkda harorat haroratning yangilangan vaqti: 2025-08-11 12:30\n",
      "New Yorkda havoning holati: Sunny\n",
      "******************************\n",
      "\n",
      "Londonda harorat: 30.1 *C\n",
      "Londonda harorat haroratning yangilangan vaqti: 2025-08-11 17:30\n",
      "Londonda havoning holati: Sunny\n",
      "******************************\n",
      "\n",
      "Tashkentda harorat: 35.2 *C\n",
      "Tashkentda harorat haroratning yangilangan vaqti: 2025-08-11 21:30\n",
      "Tashkentda havoning holati: Clear\n",
      "******************************\n",
      "\n",
      "Ferganada harorat: 29.0 *C\n",
      "Ferganada harorat haroratning yangilangan vaqti: 2025-08-11 21:30\n",
      "Ferganada havoning holati: Clear\n",
      "******************************\n",
      "\n",
      "Istanbulda harorat: 29.3 *C\n",
      "Istanbulda harorat haroratning yangilangan vaqti: 2025-08-11 19:30\n",
      "Istanbulda havoning holati: Sunny\n"
     ]
    }
   ],
   "source": [
    "cities = [\"New York\", \"London\", \"Tashkent\", \"Fergana\", \"Istanbul\"] # kerali shaharlarni tanlab city degan o'zgaruvchiga yuklab oldim \n",
    "api_key = \"0454396be2c540db9f2143407251108\"                        # weather saytidan API kalitni oldim \n",
    "for city in cities:                                                # for siklini ishlatdim \n",
    "    my_url = f\"http://api.weatherapi.com/v1/current.json?key={api_key}&q={city}\" \n",
    "                                                                   # my_url degan o'zgaruvchiga Api sayti va parametrlarini yukladim \n",
    "    response = requests.get(my_url)                                # requests modulidan get() funksiyasini olib response degan ozgaruvchiga saqladim \n",
    "    if response.status_code == 200:                                #agar response statusi 200 bolsa \n",
    "        data = response.json()                                     # print(json.dumps(data, indent= 4)) # kelgan javobni jsonga aylantirib print qilib oldim \n",
    "        print(f\"{'*' * 30}\\n\")                                     # 30 ta yulduzcha chiqarib oldim \n",
    "        print(f\"{city}da harorat: {data['current']['temp_c']} *C\") # har bir shaharning haroratini chiqarib oldim \n",
    "        print(f\"{city}da harorat haroratning yangilangan vaqti: {data['current']['last_updated']}\")\n",
    "        print(f\"{city}da havoning holati: {data['current']['condition']['text']}\")\n",
    "    else:                                                          # aks holda \n",
    "        print(f\"{city} dan ma'lumot olinmadi\")                     # bu shahardan ma'lumot topilmadi deb chiqar.  "
   ]
  },
  {
   "cell_type": "code",
   "execution_count": 79,
   "id": "222a756a",
   "metadata": {},
   "outputs": [
    {
     "name": "stdout",
     "output_type": "stream",
     "text": [
      "{\n",
      "    \"location\": {\n",
      "        \"name\": \"Istanbul\",\n",
      "        \"region\": \"Istanbul\",\n",
      "        \"country\": \"Turkey\",\n",
      "        \"lat\": 41.0186,\n",
      "        \"lon\": 28.9647,\n",
      "        \"tz_id\": \"Europe/Istanbul\",\n",
      "        \"localtime_epoch\": 1754929993,\n",
      "        \"localtime\": \"2025-08-11 19:33\"\n",
      "    },\n",
      "    \"current\": {\n",
      "        \"last_updated_epoch\": 1754929800,\n",
      "        \"last_updated\": \"2025-08-11 19:30\",\n",
      "        \"temp_c\": 29.3,\n",
      "        \"temp_f\": 84.7,\n",
      "        \"is_day\": 1,\n",
      "        \"condition\": {\n",
      "            \"text\": \"Sunny\",\n",
      "            \"icon\": \"//cdn.weatherapi.com/weather/64x64/day/113.png\",\n",
      "            \"code\": 1000\n",
      "        },\n",
      "        \"wind_mph\": 16.8,\n",
      "        \"wind_kph\": 27.0,\n",
      "        \"wind_degree\": 57,\n",
      "        \"wind_dir\": \"ENE\",\n",
      "        \"pressure_mb\": 1014.0,\n",
      "        \"pressure_in\": 29.94,\n",
      "        \"precip_mm\": 0.0,\n",
      "        \"precip_in\": 0.0,\n",
      "        \"humidity\": 52,\n",
      "        \"cloud\": 0,\n",
      "        \"feelslike_c\": 31.3,\n",
      "        \"feelslike_f\": 88.3,\n",
      "        \"windchill_c\": 25.9,\n",
      "        \"windchill_f\": 78.6,\n",
      "        \"heatindex_c\": 26.9,\n",
      "        \"heatindex_f\": 80.4,\n",
      "        \"dewpoint_c\": 16.5,\n",
      "        \"dewpoint_f\": 61.7,\n",
      "        \"vis_km\": 10.0,\n",
      "        \"vis_miles\": 6.0,\n",
      "        \"uv\": 0.3,\n",
      "        \"gust_mph\": 24.1,\n",
      "        \"gust_kph\": 38.8,\n",
      "        \"short_rad\": 510.58,\n",
      "        \"diff_rad\": 79.46,\n",
      "        \"dni\": 610.54,\n",
      "        \"gti\": 299.32\n",
      "    }\n",
      "}\n"
     ]
    }
   ],
   "source": [
    "print(json.dumps(data, indent = 4))"
   ]
  },
  {
   "cell_type": "code",
   "execution_count": 87,
   "id": "350f334b",
   "metadata": {},
   "outputs": [
    {
     "data": {
      "text/html": [
       "<div>\n",
       "<style scoped>\n",
       "    .dataframe tbody tr th:only-of-type {\n",
       "        vertical-align: middle;\n",
       "    }\n",
       "\n",
       "    .dataframe tbody tr th {\n",
       "        vertical-align: top;\n",
       "    }\n",
       "\n",
       "    .dataframe thead th {\n",
       "        text-align: right;\n",
       "    }\n",
       "</style>\n",
       "<table border=\"1\" class=\"dataframe\">\n",
       "  <thead>\n",
       "    <tr style=\"text-align: right;\">\n",
       "      <th></th>\n",
       "      <th>city</th>\n",
       "      <th>temperature</th>\n",
       "      <th>condition</th>\n",
       "      <th>last_updated</th>\n",
       "    </tr>\n",
       "  </thead>\n",
       "  <tbody>\n",
       "    <tr>\n",
       "      <th>0</th>\n",
       "      <td>New York</td>\n",
       "      <td>29.4</td>\n",
       "      <td>Sunny</td>\n",
       "      <td>2025-08-11 12:30</td>\n",
       "    </tr>\n",
       "    <tr>\n",
       "      <th>1</th>\n",
       "      <td>London</td>\n",
       "      <td>30.1</td>\n",
       "      <td>Sunny</td>\n",
       "      <td>2025-08-11 17:30</td>\n",
       "    </tr>\n",
       "    <tr>\n",
       "      <th>2</th>\n",
       "      <td>Tashkent</td>\n",
       "      <td>35.3</td>\n",
       "      <td>Clear</td>\n",
       "      <td>2025-08-11 21:30</td>\n",
       "    </tr>\n",
       "    <tr>\n",
       "      <th>3</th>\n",
       "      <td>Fergana</td>\n",
       "      <td>29.3</td>\n",
       "      <td>Clear</td>\n",
       "      <td>2025-08-11 21:30</td>\n",
       "    </tr>\n",
       "    <tr>\n",
       "      <th>4</th>\n",
       "      <td>Istanbul</td>\n",
       "      <td>28.0</td>\n",
       "      <td>Sunny</td>\n",
       "      <td>2025-08-11 19:30</td>\n",
       "    </tr>\n",
       "  </tbody>\n",
       "</table>\n",
       "</div>"
      ],
      "text/plain": [
       "       city  temperature condition      last_updated\n",
       "0  New York         29.4     Sunny  2025-08-11 12:30\n",
       "1    London         30.1     Sunny  2025-08-11 17:30\n",
       "2  Tashkent         35.3     Clear  2025-08-11 21:30\n",
       "3   Fergana         29.3     Clear  2025-08-11 21:30\n",
       "4  Istanbul         28.0     Sunny  2025-08-11 19:30"
      ]
     },
     "execution_count": 87,
     "metadata": {},
     "output_type": "execute_result"
    }
   ],
   "source": [
    "results = []\n",
    "for city in cities:\n",
    "    cities = [\"New York\", \"London\", \"Tashkent\", \"Fergana\", \"Istanbul\"] # kerali shaharlarni tanlab city degan o'zgaruvchiga yuklab oldim \n",
    "    api_key = \"0454396be2c540db9f2143407251108\"                        # weather saytidan API kalitni oldim \n",
    "    my_url = f\"http://api.weatherapi.com/v1/current.json?key={api_key}&q={city}\" \n",
    "    response = requests.get(my_url)                                # requests modulidan get() funksiyasini olib response degan ozgaruvchiga saqladim \n",
    "    if response.status_code == 200:    \n",
    "         data = response.json()    \n",
    "         results.append({\n",
    "                        \"city\": city,\n",
    "                        \"temperature\": data['current']['temp_c'],\n",
    "                        \"condition\": data['current']['condition']['text'],\n",
    "                        \"last_updated\": data['current']['last_updated']\n",
    "    })\n",
    "df = pd.DataFrame(results)\n",
    "df\n"
   ]
  },
  {
   "cell_type": "code",
   "execution_count": null,
   "id": "6be3a3b5",
   "metadata": {},
   "outputs": [
    {
     "data": {
      "image/png": "[encoded data removed]",
      "text/plain": [
       "<Figure size 640x480 with 1 Axes>"
      ]
     },
     "metadata": {},
     "output_type": "display_data"
    }
   ],
   "source": [
    "import matplotlib.pyplot as plt\n",
    "\n",
    "shaharlar = [r[\"city\"] for r in results]\n",
    "haroratlar = [r[\"temperature\"] for r in results]\n",
    "\n",
    "plt.bar(shaharlar, haroratlar, color='skyblue')\n",
    "plt.ylabel(\"temperature (°C)\")\n",
    "plt.title(\"Shaharlar bo'yicha hozirgi harorat\")\n",
    "plt.show()"
   ]
  },
  {
   "cell_type": "code",
   "execution_count": null,
   "id": "9503978e",
   "metadata": {},
   "outputs": [],
   "source": [
    " "
   ]
  },
  {
   "cell_type": "code",
   "execution_count": null,
   "id": "a651c82e",
   "metadata": {},
   "outputs": [],
   "source": []
  }
 ],
 "metadata": {
  "kernelspec": {
   "display_name": "Python 3",
   "language": "python",
   "name": "python3"
  },
  "language_info": {
   "codemirror_mode": {
    "name": "ipython",
    "version": 3
   },
   "file_extension": ".py",
   "mimetype": "text/x-python",
   "name": "python",
   "nbconvert_exporter": "python",
   "pygments_lexer": "ipython3",
   "version": "3.13.2"
  }
 },
 "nbformat": 4,
 "nbformat_minor": 5
}
